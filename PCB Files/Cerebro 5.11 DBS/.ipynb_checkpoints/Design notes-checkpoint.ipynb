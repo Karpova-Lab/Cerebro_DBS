{
 "cells": [
  {
   "cell_type": "markdown",
   "metadata": {},
   "source": [
    "## Boost Converter"
   ]
  },
  {
   "cell_type": "code",
   "execution_count": 11,
   "metadata": {},
   "outputs": [
    {
     "name": "stdout",
     "output_type": "stream",
     "text": [
      "8.68 volts\n"
     ]
    }
   ],
   "source": [
    "boostR1 = 12000 #ohms\n",
    "boostR2 = 2000 #ohms\n",
    "if boostR2>5000:\n",
    "    print(\"boostR2 must be <= 5kOhm\")\n",
    "else:\n",
    "    Vout = 1.24*(boostR1/boostR2+1)\n",
    "    print(Vout,\"volts\")"
   ]
  },
  {
   "cell_type": "markdown",
   "metadata": {},
   "source": [
    "## Laser Diodes"
   ]
  },
  {
   "cell_type": "code",
   "execution_count": 21,
   "metadata": {},
   "outputs": [
    {
     "name": "stdout",
     "output_type": "stream",
     "text": [
      "Max laser diode current = 0.208 A\n"
     ]
    }
   ],
   "source": [
    "npnEmitterResistor = 12 #ohms\n",
    "maxDACvoltage = 2.5 #volts\n",
    "currentThroughDiodes = maxDACvoltage/npnEmitterResistor\n",
    "print(\"Max laser diode current = {:.3f} A\".format( currentThroughDiodes))"
   ]
  },
  {
   "cell_type": "markdown",
   "metadata": {},
   "source": [
    "## Power breakdown"
   ]
  },
  {
   "cell_type": "code",
   "execution_count": 22,
   "metadata": {
    "collapsed": true
   },
   "outputs": [],
   "source": [
    "#use mulitple lines for boosted voltage trace, since we have pins to spare"
   ]
  },
  {
   "cell_type": "code",
   "execution_count": null,
   "metadata": {
    "collapsed": true
   },
   "outputs": [],
   "source": []
  }
 ],
 "metadata": {
  "kernelspec": {
   "display_name": "Python 3",
   "language": "python",
   "name": "python3"
  },
  "language_info": {
   "codemirror_mode": {
    "name": "ipython",
    "version": 3
   },
   "file_extension": ".py",
   "mimetype": "text/x-python",
   "name": "python",
   "nbconvert_exporter": "python",
   "pygments_lexer": "ipython3",
   "version": "3.6.2"
  }
 },
 "nbformat": 4,
 "nbformat_minor": 2
}
